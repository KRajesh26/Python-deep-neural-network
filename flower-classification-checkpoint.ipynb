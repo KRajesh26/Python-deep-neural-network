{
 "cells": [
  {
   "cell_type": "markdown",
   "metadata": {
    "papermill": {
     "duration": 0.039569,
     "end_time": "2020-11-22T10:40:10.973577",
     "exception": false,
     "start_time": "2020-11-22T10:40:10.934008",
     "status": "completed"
    },
    "tags": []
   },
   "source": [
    "# Import Necessary Libraries and modules"
   ]
  },
  {
   "cell_type": "code",
   "execution_count": 1,
   "metadata": {},
   "outputs": [
    {
     "name": "stderr",
     "output_type": "stream",
     "text": [
      "Python 3.6.12 :: Anaconda, Inc.\n"
     ]
    }
   ],
   "source": [
    "!python -V"
   ]
  },
  {
   "cell_type": "code",
   "execution_count": 1,
   "metadata": {
    "_cell_guid": "79c7e3d0-c299-4dcb-8224-4455121ee9b0",
    "_uuid": "d629ff2d2480ee46fbb7e2d37f6b5fab8052498a",
    "execution": {
     "iopub.execute_input": "2020-11-22T10:40:11.055890Z",
     "iopub.status.busy": "2020-11-22T10:40:11.054983Z",
     "iopub.status.idle": "2020-11-22T10:40:17.987389Z",
     "shell.execute_reply": "2020-11-22T10:40:17.986765Z"
    },
    "papermill": {
     "duration": 6.976862,
     "end_time": "2020-11-22T10:40:17.987586",
     "exception": false,
     "start_time": "2020-11-22T10:40:11.010724",
     "status": "completed"
    },
    "tags": []
   },
   "outputs": [],
   "source": [
    "import numpy as np\n",
    "import keras\n",
    "from PIL import Image\n",
    "import os\n",
    "from tensorflow.keras.models import Sequential\n",
    "from tensorflow.keras.layers import Dense,Conv2D,MaxPool2D,Dropout,BatchNormalization,Flatten,Activation\n",
    "from tensorflow.keras.preprocessing import image \n",
    "from tensorflow.keras.preprocessing.image import ImageDataGenerator\n",
    "import matplotlib.pyplot as plt\n",
    "from tensorflow.keras.utils import plot_model\n",
    "#import seaborn as sns"
   ]
  },
  {
   "cell_type": "markdown",
   "metadata": {
    "papermill": {
     "duration": 0.036827,
     "end_time": "2020-11-22T10:40:18.063750",
     "exception": false,
     "start_time": "2020-11-22T10:40:18.026923",
     "status": "completed"
    },
    "tags": []
   },
   "source": [
    "# Directories of the datasets\n"
   ]
  },
  {
   "cell_type": "code",
   "execution_count": 2,
   "metadata": {
    "execution": {
     "iopub.execute_input": "2020-11-22T10:40:18.146194Z",
     "iopub.status.busy": "2020-11-22T10:40:18.145434Z",
     "iopub.status.idle": "2020-11-22T10:40:18.150357Z",
     "shell.execute_reply": "2020-11-22T10:40:18.149828Z"
    },
    "papermill": {
     "duration": 0.048093,
     "end_time": "2020-11-22T10:40:18.150464",
     "exception": false,
     "start_time": "2020-11-22T10:40:18.102371",
     "status": "completed"
    },
    "tags": []
   },
   "outputs": [],
   "source": [
    "train_directory='C:\\\\Users\\\\HP\\\\Desktop\\\\Flowers-Recognition-master\\\\train'\n",
    "val_directory='C:\\\\Users\\\\HP\\\\Desktop\\\\Flowers-Recognition-master\\\\valid'\n",
    "test_directory='C:\\\\Users\\\\HP\\\\Desktop\\\\Flowers-Recognition-master\\\\test'"
   ]
  },
  {
   "cell_type": "markdown",
   "metadata": {
    "papermill": {
     "duration": 0.04165,
     "end_time": "2020-11-22T10:40:18.253241",
     "exception": false,
     "start_time": "2020-11-22T10:40:18.211591",
     "status": "completed"
    },
    "tags": []
   },
   "source": [
    "# Rescaling the Images"
   ]
  },
  {
   "cell_type": "code",
   "execution_count": 3,
   "metadata": {
    "execution": {
     "iopub.execute_input": "2020-11-22T10:40:18.339228Z",
     "iopub.status.busy": "2020-11-22T10:40:18.337327Z",
     "iopub.status.idle": "2020-11-22T10:40:18.339961Z",
     "shell.execute_reply": "2020-11-22T10:40:18.340447Z"
    },
    "papermill": {
     "duration": 0.048793,
     "end_time": "2020-11-22T10:40:18.340574",
     "exception": false,
     "start_time": "2020-11-22T10:40:18.291781",
     "status": "completed"
    },
    "tags": []
   },
   "outputs": [],
   "source": [
    "train_datagen=ImageDataGenerator(rescale=1/255)\n",
    "val_datagen=ImageDataGenerator(rescale=1/255)\n",
    "test_datagen=ImageDataGenerator(rescale=1/255)"
   ]
  },
  {
   "cell_type": "markdown",
   "metadata": {
    "papermill": {
     "duration": 0.041273,
     "end_time": "2020-11-22T10:40:18.424172",
     "exception": false,
     "start_time": "2020-11-22T10:40:18.382899",
     "status": "completed"
    },
    "tags": []
   },
   "source": [
    "# Using the flow from directory function for reading the images"
   ]
  },
  {
   "cell_type": "code",
   "execution_count": 4,
   "metadata": {
    "execution": {
     "iopub.execute_input": "2020-11-22T10:40:18.514211Z",
     "iopub.status.busy": "2020-11-22T10:40:18.513416Z",
     "iopub.status.idle": "2020-11-22T10:40:21.129653Z",
     "shell.execute_reply": "2020-11-22T10:40:21.128954Z"
    },
    "papermill": {
     "duration": 2.66435,
     "end_time": "2020-11-22T10:40:21.129792",
     "exception": false,
     "start_time": "2020-11-22T10:40:18.465442",
     "status": "completed"
    },
    "tags": []
   },
   "outputs": [
    {
     "name": "stdout",
     "output_type": "stream",
     "text": [
      "Found 906 images belonging to 5 classes.\n",
      "Found 906 images belonging to 5 classes.\n",
      "Found 906 images belonging to 5 classes.\n"
     ]
    }
   ],
   "source": [
    "train_generator=train_datagen.flow_from_directory(train_directory,\n",
    "                                                 target_size=(224,224),\n",
    "                                                 color_mode='rgb',\n",
    "                                                  batch_size=256,\n",
    "                                                 class_mode='sparse')\n",
    "val_generator=val_datagen.flow_from_directory(val_directory,\n",
    "                                                 target_size=(224,224),\n",
    "                                                 batch_size=256,\n",
    "                                                 color_mode='rgb',\n",
    "                                                 class_mode='sparse')\n",
    "test_generator=test_datagen.flow_from_directory(test_directory,\n",
    "                                                batch_size=256,\n",
    "                                                 target_size=(224,224),\n",
    "                                                 color_mode='rgb',\n",
    "                                                 class_mode='sparse')"
   ]
  },
  {
   "cell_type": "markdown",
   "metadata": {
    "papermill": {
     "duration": 0.039899,
     "end_time": "2020-11-22T10:40:21.212387",
     "exception": false,
     "start_time": "2020-11-22T10:40:21.172488",
     "status": "completed"
    },
    "tags": []
   },
   "source": [
    "# The Dictionary"
   ]
  },
  {
   "cell_type": "code",
   "execution_count": 5,
   "metadata": {
    "execution": {
     "iopub.execute_input": "2020-11-22T10:40:21.295660Z",
     "iopub.status.busy": "2020-11-22T10:40:21.294789Z",
     "iopub.status.idle": "2020-11-22T10:40:21.299221Z",
     "shell.execute_reply": "2020-11-22T10:40:21.298537Z"
    },
    "papermill": {
     "duration": 0.047791,
     "end_time": "2020-11-22T10:40:21.299356",
     "exception": false,
     "start_time": "2020-11-22T10:40:21.251565",
     "status": "completed"
    },
    "tags": []
   },
   "outputs": [],
   "source": [
    "num_classes=(len(train_generator.class_indices))"
   ]
  },
  {
   "cell_type": "code",
   "execution_count": 6,
   "metadata": {
    "execution": {
     "iopub.execute_input": "2020-11-22T10:40:21.398026Z",
     "iopub.status.busy": "2020-11-22T10:40:21.397051Z",
     "iopub.status.idle": "2020-11-22T10:40:21.401668Z",
     "shell.execute_reply": "2020-11-22T10:40:21.402188Z"
    },
    "papermill": {
     "duration": 0.063408,
     "end_time": "2020-11-22T10:40:21.402311",
     "exception": false,
     "start_time": "2020-11-22T10:40:21.338903",
     "status": "completed"
    },
    "tags": []
   },
   "outputs": [
    {
     "data": {
      "text/plain": [
       "{'daisy': 0, 'dandelion': 1, 'rose': 2, 'sunflower': 3, 'tulip': 4}"
      ]
     },
     "execution_count": 6,
     "metadata": {},
     "output_type": "execute_result"
    }
   ],
   "source": [
    "train_generator.class_indices"
   ]
  },
  {
   "cell_type": "markdown",
   "metadata": {
    "papermill": {
     "duration": 0.040382,
     "end_time": "2020-11-22T10:40:21.483623",
     "exception": false,
     "start_time": "2020-11-22T10:40:21.443241",
     "status": "completed"
    },
    "tags": []
   },
   "source": [
    "# Understanding the Data"
   ]
  },
  {
   "cell_type": "code",
   "execution_count": 7,
   "metadata": {
    "execution": {
     "iopub.execute_input": "2020-11-22T10:40:21.571587Z",
     "iopub.status.busy": "2020-11-22T10:40:21.569643Z",
     "iopub.status.idle": "2020-11-22T10:40:21.572372Z",
     "shell.execute_reply": "2020-11-22T10:40:21.572896Z"
    },
    "papermill": {
     "duration": 0.048776,
     "end_time": "2020-11-22T10:40:21.573011",
     "exception": false,
     "start_time": "2020-11-22T10:40:21.524235",
     "status": "completed"
    },
    "tags": []
   },
   "outputs": [],
   "source": [
    "breeds=list(train_generator.class_indices.keys())"
   ]
  },
  {
   "cell_type": "code",
   "execution_count": 8,
   "metadata": {
    "execution": {
     "iopub.execute_input": "2020-11-22T10:40:21.661456Z",
     "iopub.status.busy": "2020-11-22T10:40:21.660615Z",
     "iopub.status.idle": "2020-11-22T10:40:21.663080Z",
     "shell.execute_reply": "2020-11-22T10:40:21.663657Z"
    },
    "papermill": {
     "duration": 0.049516,
     "end_time": "2020-11-22T10:40:21.663789",
     "exception": false,
     "start_time": "2020-11-22T10:40:21.614273",
     "status": "completed"
    },
    "tags": []
   },
   "outputs": [],
   "source": [
    "x=list(train_generator.classes)"
   ]
  },
  {
   "cell_type": "code",
   "execution_count": 9,
   "metadata": {
    "execution": {
     "iopub.execute_input": "2020-11-22T10:40:21.880948Z",
     "iopub.status.busy": "2020-11-22T10:40:21.880047Z",
     "iopub.status.idle": "2020-11-22T10:40:41.582927Z",
     "shell.execute_reply": "2020-11-22T10:40:41.582342Z"
    },
    "papermill": {
     "duration": 19.878977,
     "end_time": "2020-11-22T10:40:41.583054",
     "exception": false,
     "start_time": "2020-11-22T10:40:21.704077",
     "status": "completed"
    },
    "tags": []
   },
   "outputs": [],
   "source": [
    "label=[]\n",
    "for i in range (0,225):\n",
    "    label.append(x.count(i))\n"
   ]
  },
  {
   "cell_type": "markdown",
   "metadata": {
    "papermill": {
     "duration": 0.081258,
     "end_time": "2020-11-22T10:40:46.675697",
     "exception": false,
     "start_time": "2020-11-22T10:40:46.594439",
     "status": "completed"
    },
    "tags": []
   },
   "source": [
    "# Using Resnet50v2 with imagenet weights"
   ]
  },
  {
   "cell_type": "code",
   "execution_count": 10,
   "metadata": {
    "execution": {
     "iopub.execute_input": "2020-11-22T10:40:46.854048Z",
     "iopub.status.busy": "2020-11-22T10:40:46.853393Z",
     "iopub.status.idle": "2020-11-22T10:40:46.858024Z",
     "shell.execute_reply": "2020-11-22T10:40:46.857518Z"
    },
    "papermill": {
     "duration": 0.091932,
     "end_time": "2020-11-22T10:40:46.858143",
     "exception": false,
     "start_time": "2020-11-22T10:40:46.766211",
     "status": "completed"
    },
    "tags": []
   },
   "outputs": [],
   "source": [
    "from tensorflow.keras.applications import ResNet50V2"
   ]
  },
  {
   "cell_type": "code",
   "execution_count": 11,
   "metadata": {
    "execution": {
     "iopub.execute_input": "2020-11-22T10:40:47.031209Z",
     "iopub.status.busy": "2020-11-22T10:40:47.030480Z",
     "iopub.status.idle": "2020-11-22T10:40:52.561434Z",
     "shell.execute_reply": "2020-11-22T10:40:52.554052Z"
    },
    "papermill": {
     "duration": 5.621215,
     "end_time": "2020-11-22T10:40:52.562915",
     "exception": false,
     "start_time": "2020-11-22T10:40:46.941700",
     "status": "completed"
    },
    "tags": []
   },
   "outputs": [],
   "source": [
    "convlayer=ResNet50V2(input_shape=(224,224,3),weights='imagenet',include_top=False)\n",
    "for layer in convlayer.layers:\n",
    "    layer.trainable=False"
   ]
  },
  {
   "cell_type": "code",
   "execution_count": 12,
   "metadata": {
    "execution": {
     "iopub.execute_input": "2020-11-22T10:40:52.767312Z",
     "iopub.status.busy": "2020-11-22T10:40:52.766446Z",
     "iopub.status.idle": "2020-11-22T10:40:55.190490Z",
     "shell.execute_reply": "2020-11-22T10:40:55.190992Z"
    },
    "papermill": {
     "duration": 2.516968,
     "end_time": "2020-11-22T10:40:55.191161",
     "exception": false,
     "start_time": "2020-11-22T10:40:52.674193",
     "status": "completed"
    },
    "tags": []
   },
   "outputs": [
    {
     "name": "stdout",
     "output_type": "stream",
     "text": [
      "('Failed to import pydot. You must `pip install pydot` and install graphviz (https://graphviz.gitlab.io/download/), ', 'for `pydotprint` to work.')\n"
     ]
    }
   ],
   "source": [
    "plot_model(convlayer)"
   ]
  },
  {
   "cell_type": "markdown",
   "metadata": {
    "papermill": {
     "duration": 0.104542,
     "end_time": "2020-11-22T10:40:55.397468",
     "exception": false,
     "start_time": "2020-11-22T10:40:55.292926",
     "status": "completed"
    },
    "tags": []
   },
   "source": [
    "# Adding the layer to the Dense Layers"
   ]
  },
  {
   "cell_type": "code",
   "execution_count": 13,
   "metadata": {
    "execution": {
     "iopub.execute_input": "2020-11-22T10:40:55.612971Z",
     "iopub.status.busy": "2020-11-22T10:40:55.611886Z",
     "iopub.status.idle": "2020-11-22T10:40:56.099717Z",
     "shell.execute_reply": "2020-11-22T10:40:56.098914Z"
    },
    "papermill": {
     "duration": 0.601212,
     "end_time": "2020-11-22T10:40:56.099833",
     "exception": false,
     "start_time": "2020-11-22T10:40:55.498621",
     "status": "completed"
    },
    "tags": []
   },
   "outputs": [
    {
     "name": "stdout",
     "output_type": "stream",
     "text": [
      "Model: \"sequential\"\n",
      "_________________________________________________________________\n",
      "Layer (type)                 Output Shape              Param #   \n",
      "=================================================================\n",
      "resnet50v2 (Functional)      (None, 7, 7, 2048)        23564800  \n",
      "_________________________________________________________________\n",
      "dropout (Dropout)            (None, 7, 7, 2048)        0         \n",
      "_________________________________________________________________\n",
      "flatten (Flatten)            (None, 100352)            0         \n",
      "_________________________________________________________________\n",
      "batch_normalization (BatchNo (None, 100352)            401408    \n",
      "_________________________________________________________________\n",
      "dense (Dense)                (None, 2048)              205522944 \n",
      "_________________________________________________________________\n",
      "batch_normalization_1 (Batch (None, 2048)              8192      \n",
      "_________________________________________________________________\n",
      "activation (Activation)      (None, 2048)              0         \n",
      "_________________________________________________________________\n",
      "dropout_1 (Dropout)          (None, 2048)              0         \n",
      "_________________________________________________________________\n",
      "dense_1 (Dense)              (None, 1024)              2098176   \n",
      "_________________________________________________________________\n",
      "batch_normalization_2 (Batch (None, 1024)              4096      \n",
      "_________________________________________________________________\n",
      "activation_1 (Activation)    (None, 1024)              0         \n",
      "_________________________________________________________________\n",
      "dropout_2 (Dropout)          (None, 1024)              0         \n",
      "_________________________________________________________________\n",
      "dense_2 (Dense)              (None, 5)                 5125      \n",
      "=================================================================\n",
      "Total params: 231,604,741\n",
      "Trainable params: 207,833,093\n",
      "Non-trainable params: 23,771,648\n",
      "_________________________________________________________________\n",
      "None\n"
     ]
    }
   ],
   "source": [
    "model=Sequential()\n",
    "model.add(convlayer)\n",
    "model.add(Dropout(0.5))\n",
    "model.add(Flatten())\n",
    "model.add(BatchNormalization())\n",
    "model.add(Dense(2048,kernel_initializer='he_uniform'))\n",
    "model.add(BatchNormalization())\n",
    "model.add(Activation('relu'))\n",
    "model.add(Dropout(0.5))\n",
    "model.add(Dense(1024,kernel_initializer='he_uniform'))\n",
    "model.add(BatchNormalization())\n",
    "model.add(Activation('relu'))\n",
    "model.add(Dropout(0.5))\n",
    "model.add(Dense(num_classes,activation='softmax',kernel_initializer='glorot_uniform'))\n",
    "print(model.summary())"
   ]
  },
  {
   "cell_type": "code",
   "execution_count": 14,
   "metadata": {
    "execution": {
     "iopub.execute_input": "2020-11-22T10:40:56.320195Z",
     "iopub.status.busy": "2020-11-22T10:40:56.307321Z",
     "iopub.status.idle": "2020-11-22T10:40:56.453195Z",
     "shell.execute_reply": "2020-11-22T10:40:56.452602Z"
    },
    "papermill": {
     "duration": 0.254368,
     "end_time": "2020-11-22T10:40:56.453313",
     "exception": false,
     "start_time": "2020-11-22T10:40:56.198945",
     "status": "completed"
    },
    "tags": []
   },
   "outputs": [
    {
     "name": "stdout",
     "output_type": "stream",
     "text": [
      "('Failed to import pydot. You must `pip install pydot` and install graphviz (https://graphviz.gitlab.io/download/), ', 'for `pydotprint` to work.')\n"
     ]
    }
   ],
   "source": [
    "plot_model(model)"
   ]
  },
  {
   "cell_type": "markdown",
   "metadata": {
    "papermill": {
     "duration": 0.105458,
     "end_time": "2020-11-22T10:40:56.664780",
     "exception": false,
     "start_time": "2020-11-22T10:40:56.559322",
     "status": "completed"
    },
    "tags": []
   },
   "source": [
    "# Use a small learning rate for better accuracy"
   ]
  },
  {
   "cell_type": "code",
   "execution_count": 15,
   "metadata": {
    "execution": {
     "iopub.execute_input": "2020-11-22T10:40:56.896296Z",
     "iopub.status.busy": "2020-11-22T10:40:56.895141Z",
     "iopub.status.idle": "2020-11-22T10:40:56.904204Z",
     "shell.execute_reply": "2020-11-22T10:40:56.903719Z"
    },
    "papermill": {
     "duration": 0.133111,
     "end_time": "2020-11-22T10:40:56.904310",
     "exception": false,
     "start_time": "2020-11-22T10:40:56.771199",
     "status": "completed"
    },
    "tags": []
   },
   "outputs": [],
   "source": [
    "optimizer=keras.optimizers.RMSprop(lr=0.0001)\n",
    "model.compile(optimizer=optimizer,loss='sparse_categorical_crossentropy',metrics=['accuracy'])"
   ]
  },
  {
   "cell_type": "code",
   "execution_count": 16,
   "metadata": {
    "execution": {
     "iopub.execute_input": "2020-11-22T10:40:57.119189Z",
     "iopub.status.busy": "2020-11-22T10:40:57.118313Z",
     "iopub.status.idle": "2020-11-22T10:53:49.159197Z",
     "shell.execute_reply": "2020-11-22T10:53:49.159747Z"
    },
    "papermill": {
     "duration": 772.153174,
     "end_time": "2020-11-22T10:53:49.159912",
     "exception": false,
     "start_time": "2020-11-22T10:40:57.006738",
     "status": "completed"
    },
    "tags": []
   },
   "outputs": [
    {
     "name": "stdout",
     "output_type": "stream",
     "text": [
      "Epoch 1/50\n",
      "4/4 [==============================] - 337s 94s/step - loss: 1.6091 - accuracy: 0.4434 - val_loss: 0.4437 - val_accuracy: 0.8962\n",
      "Epoch 2/50\n",
      "4/4 [==============================] - 323s 91s/step - loss: 0.3542 - accuracy: 0.8970 - val_loss: 0.1076 - val_accuracy: 0.9757\n",
      "Epoch 3/50\n",
      "4/4 [==============================] - 319s 89s/step - loss: 0.1808 - accuracy: 0.9536 - val_loss: 0.0446 - val_accuracy: 0.9879\n",
      "Epoch 4/50\n",
      "4/4 [==============================] - 320s 98s/step - loss: 0.1074 - accuracy: 0.9815 - val_loss: 0.0155 - val_accuracy: 0.9945\n",
      "Epoch 5/50\n",
      "4/4 [==============================] - 323s 99s/step - loss: 0.0845 - accuracy: 0.9826 - val_loss: 0.0059 - val_accuracy: 0.9989\n",
      "Epoch 6/50\n",
      "4/4 [==============================] - 322s 90s/step - loss: 0.0633 - accuracy: 0.9880 - val_loss: 0.0031 - val_accuracy: 0.9989\n",
      "Epoch 7/50\n",
      "4/4 [==============================] - 320s 90s/step - loss: 0.0378 - accuracy: 0.9996 - val_loss: 0.0016 - val_accuracy: 1.0000\n",
      "Epoch 8/50\n",
      "4/4 [==============================] - 323s 91s/step - loss: 0.0313 - accuracy: 0.9967 - val_loss: 6.9824e-04 - val_accuracy: 1.0000\n",
      "Epoch 9/50\n",
      "4/4 [==============================] - 318s 89s/step - loss: 0.0219 - accuracy: 1.0000 - val_loss: 4.8445e-04 - val_accuracy: 1.0000\n",
      "Epoch 10/50\n",
      "4/4 [==============================] - 319s 90s/step - loss: 0.0189 - accuracy: 0.9987 - val_loss: 2.2176e-04 - val_accuracy: 1.0000\n",
      "Epoch 11/50\n",
      "4/4 [==============================] - 320s 90s/step - loss: 0.0153 - accuracy: 0.9981 - val_loss: 1.4972e-04 - val_accuracy: 1.0000\n",
      "Epoch 12/50\n",
      "4/4 [==============================] - 318s 90s/step - loss: 0.0100 - accuracy: 1.0000 - val_loss: 1.0650e-04 - val_accuracy: 1.0000\n",
      "Epoch 13/50\n",
      "4/4 [==============================] - 318s 97s/step - loss: 0.0087 - accuracy: 0.9993 - val_loss: 7.2302e-05 - val_accuracy: 1.0000\n",
      "Epoch 14/50\n",
      "4/4 [==============================] - 319s 90s/step - loss: 0.0060 - accuracy: 1.0000 - val_loss: 6.5719e-05 - val_accuracy: 1.0000\n",
      "Epoch 15/50\n",
      "4/4 [==============================] - 319s 90s/step - loss: 0.0056 - accuracy: 1.0000 - val_loss: 4.8866e-05 - val_accuracy: 1.0000\n",
      "Epoch 16/50\n",
      "4/4 [==============================] - 315s 89s/step - loss: 0.0046 - accuracy: 1.0000 - val_loss: 4.1266e-05 - val_accuracy: 1.0000\n",
      "Epoch 17/50\n",
      "4/4 [==============================] - 316s 89s/step - loss: 0.0032 - accuracy: 1.0000 - val_loss: 3.5001e-05 - val_accuracy: 1.0000\n",
      "Epoch 18/50\n",
      "4/4 [==============================] - 318s 90s/step - loss: 0.0025 - accuracy: 1.0000 - val_loss: 3.2321e-05 - val_accuracy: 1.0000\n",
      "Epoch 19/50\n",
      "4/4 [==============================] - 316s 89s/step - loss: 0.0028 - accuracy: 1.0000 - val_loss: 2.7073e-05 - val_accuracy: 1.0000\n",
      "Epoch 20/50\n",
      "4/4 [==============================] - 315s 89s/step - loss: 0.0021 - accuracy: 1.0000 - val_loss: 2.3042e-05 - val_accuracy: 1.0000\n",
      "Epoch 21/50\n",
      "4/4 [==============================] - 317s 89s/step - loss: 0.0021 - accuracy: 1.0000 - val_loss: 1.9020e-05 - val_accuracy: 1.0000\n",
      "Epoch 22/50\n",
      "4/4 [==============================] - 320s 90s/step - loss: 0.0013 - accuracy: 1.0000 - val_loss: 1.6507e-05 - val_accuracy: 1.0000\n",
      "Epoch 23/50\n",
      "4/4 [==============================] - 320s 90s/step - loss: 0.0015 - accuracy: 1.0000 - val_loss: 1.6889e-05 - val_accuracy: 1.0000\n",
      "Epoch 24/50\n",
      "4/4 [==============================] - 318s 90s/step - loss: 0.0014 - accuracy: 1.0000 - val_loss: 1.8163e-05 - val_accuracy: 1.0000\n",
      "Epoch 25/50\n",
      "4/4 [==============================] - 318s 90s/step - loss: 0.0010 - accuracy: 1.0000 - val_loss: 1.4141e-05 - val_accuracy: 1.0000\n",
      "Epoch 26/50\n",
      "4/4 [==============================] - 319s 90s/step - loss: 9.7561e-04 - accuracy: 1.0000 - val_loss: 1.1030e-05 - val_accuracy: 1.0000\n",
      "Epoch 27/50\n",
      "4/4 [==============================] - 319s 90s/step - loss: 6.1656e-04 - accuracy: 1.0000 - val_loss: 8.7770e-06 - val_accuracy: 1.0000\n",
      "Epoch 28/50\n",
      "4/4 [==============================] - 318s 90s/step - loss: 4.8930e-04 - accuracy: 1.0000 - val_loss: 7.2831e-06 - val_accuracy: 1.0000\n",
      "Epoch 29/50\n",
      "4/4 [==============================] - 320s 97s/step - loss: 3.3242e-04 - accuracy: 1.0000 - val_loss: 6.3147e-06 - val_accuracy: 1.0000\n",
      "Epoch 30/50\n",
      "4/4 [==============================] - 318s 90s/step - loss: 4.0736e-04 - accuracy: 1.0000 - val_loss: 5.5808e-06 - val_accuracy: 1.0000\n",
      "Epoch 31/50\n",
      "4/4 [==============================] - 319s 90s/step - loss: 3.1359e-04 - accuracy: 1.0000 - val_loss: 4.7037e-06 - val_accuracy: 1.0000\n",
      "Epoch 32/50\n",
      "4/4 [==============================] - 319s 90s/step - loss: 2.1038e-04 - accuracy: 1.0000 - val_loss: 4.0216e-06 - val_accuracy: 1.0000\n",
      "Epoch 33/50\n",
      "4/4 [==============================] - 319s 97s/step - loss: 2.1756e-04 - accuracy: 1.0000 - val_loss: 3.5552e-06 - val_accuracy: 1.0000\n",
      "Epoch 34/50\n",
      "4/4 [==============================] - 319s 90s/step - loss: 1.6934e-04 - accuracy: 1.0000 - val_loss: 2.9731e-06 - val_accuracy: 1.0000\n",
      "Epoch 35/50\n",
      "4/4 [==============================] - 319s 90s/step - loss: 1.2046e-04 - accuracy: 1.0000 - val_loss: 2.4890e-06 - val_accuracy: 1.0000\n",
      "Epoch 36/50\n",
      "4/4 [==============================] - 319s 90s/step - loss: 1.8966e-04 - accuracy: 1.0000 - val_loss: 2.4484e-06 - val_accuracy: 1.0000\n",
      "Epoch 37/50\n",
      "4/4 [==============================] - 317s 89s/step - loss: 1.3661e-04 - accuracy: 1.0000 - val_loss: 1.8744e-06 - val_accuracy: 1.0000\n",
      "Epoch 38/50\n",
      "4/4 [==============================] - 319s 90s/step - loss: 9.6466e-05 - accuracy: 1.0000 - val_loss: 1.4847e-06 - val_accuracy: 1.0000\n",
      "Epoch 39/50\n",
      "4/4 [==============================] - 319s 90s/step - loss: 1.1137e-04 - accuracy: 1.0000 - val_loss: 1.3972e-06 - val_accuracy: 1.0000\n",
      "Epoch 40/50\n",
      "4/4 [==============================] - 318s 90s/step - loss: 6.2044e-05 - accuracy: 1.0000 - val_loss: 1.2059e-06 - val_accuracy: 1.0000\n",
      "Epoch 41/50\n",
      "4/4 [==============================] - 318s 89s/step - loss: 1.0422e-04 - accuracy: 1.0000 - val_loss: 9.5828e-07 - val_accuracy: 1.0000\n",
      "Epoch 42/50\n",
      "4/4 [==============================] - 318s 89s/step - loss: 5.3176e-05 - accuracy: 1.0000 - val_loss: 7.9736e-07 - val_accuracy: 1.0000\n",
      "Epoch 43/50\n",
      "4/4 [==============================] - 316s 89s/step - loss: 3.4994e-05 - accuracy: 1.0000 - val_loss: 6.5644e-07 - val_accuracy: 1.0000\n",
      "Epoch 44/50\n",
      "4/4 [==============================] - 315s 96s/step - loss: 4.2252e-05 - accuracy: 1.0000 - val_loss: 5.3999e-07 - val_accuracy: 1.0000\n",
      "Epoch 45/50\n",
      "4/4 [==============================] - 316s 89s/step - loss: 4.1573e-05 - accuracy: 1.0000 - val_loss: 4.3802e-07 - val_accuracy: 1.0000\n",
      "Epoch 46/50\n",
      "4/4 [==============================] - 320s 97s/step - loss: 2.4212e-05 - accuracy: 1.0000 - val_loss: 3.6184e-07 - val_accuracy: 1.0000\n",
      "Epoch 47/50\n",
      "4/4 [==============================] - 319s 90s/step - loss: 3.3528e-05 - accuracy: 1.0000 - val_loss: 3.4408e-07 - val_accuracy: 1.0000\n",
      "Epoch 48/50\n",
      "4/4 [==============================] - 318s 97s/step - loss: 3.4215e-05 - accuracy: 1.0000 - val_loss: 3.3052e-07 - val_accuracy: 1.0000\n",
      "Epoch 49/50\n",
      "4/4 [==============================] - 319s 90s/step - loss: 1.8486e-05 - accuracy: 1.0000 - val_loss: 3.6144e-07 - val_accuracy: 1.0000\n",
      "Epoch 50/50\n",
      "4/4 [==============================] - 320s 90s/step - loss: 2.8566e-05 - accuracy: 1.0000 - val_loss: 2.5302e-07 - val_accuracy: 1.0000\n"
     ]
    }
   ],
   "source": [
    "history=model.fit(train_generator,epochs=50,validation_data=val_generator)"
   ]
  },
  {
   "cell_type": "code",
   "execution_count": 17,
   "metadata": {
    "execution": {
     "iopub.execute_input": "2020-11-22T10:53:49.980333Z",
     "iopub.status.busy": "2020-11-22T10:53:49.979328Z",
     "iopub.status.idle": "2020-11-22T10:53:50.150921Z",
     "shell.execute_reply": "2020-11-22T10:53:50.151416Z"
    },
    "papermill": {
     "duration": 0.584337,
     "end_time": "2020-11-22T10:53:50.151568",
     "exception": false,
     "start_time": "2020-11-22T10:53:49.567231",
     "status": "completed"
    },
    "tags": []
   },
   "outputs": [
    {
     "data": {
      "image/png": "[encoded data removed]",
      "text/plain": [
       "<Figure size 432x288 with 1 Axes>"
      ]
     },
     "metadata": {
      "needs_background": "light"
     },
     "output_type": "display_data"
    }
   ],
   "source": [
    "import cv2\n",
    "plt.plot(history.history['accuracy'],c='b',label='train')\n",
    "plt.plot(history.history['val_accuracy'],c='r',label='validation')\n",
    "plt.legend(loc='lower right')\n",
    "plt.savefig('matrix1.png', dpi=300, bbox_inches='tight')\n",
    "plt.show()\n",
    "#plt.savefig(\"figure.png\")\n"
   ]
  },
  {
   "cell_type": "code",
   "execution_count": 18,
   "metadata": {
    "execution": {
     "iopub.execute_input": "2020-11-22T10:53:51.216435Z",
     "iopub.status.busy": "2020-11-22T10:53:51.215006Z",
     "iopub.status.idle": "2020-11-22T10:53:51.380883Z",
     "shell.execute_reply": "2020-11-22T10:53:51.381412Z"
    },
    "papermill": {
     "duration": 0.601888,
     "end_time": "2020-11-22T10:53:51.381556",
     "exception": false,
     "start_time": "2020-11-22T10:53:50.779668",
     "status": "completed"
    },
    "tags": []
   },
   "outputs": [
    {
     "data": {
      "image/png": "[encoded data removed]",
      "text/plain": [
       "<Figure size 432x288 with 1 Axes>"
      ]
     },
     "metadata": {
      "needs_background": "light"
     },
     "output_type": "display_data"
    }
   ],
   "source": [
    "plt.plot(history.history['loss'],c='b',label='train')\n",
    "plt.plot(history.history['val_loss'],c='r',label='validation')\n",
    "plt.legend(loc='upper right')\n",
    "plt.savefig('matrix2.png', dpi=300, bbox_inches='tight')\n",
    "plt.show()\n",
    "#plt.savefig(\"figure.png\")"
   ]
  },
  {
   "cell_type": "markdown",
   "metadata": {
    "papermill": {
     "duration": 0.410607,
     "end_time": "2020-11-22T10:53:52.198304",
     "exception": false,
     "start_time": "2020-11-22T10:53:51.787697",
     "status": "completed"
    },
    "tags": []
   },
   "source": [
    "# Check your Accuracy on the Test set"
   ]
  },
  {
   "cell_type": "code",
   "execution_count": 19,
   "metadata": {
    "execution": {
     "iopub.execute_input": "2020-11-22T10:53:53.022441Z",
     "iopub.status.busy": "2020-11-22T10:53:53.021628Z",
     "iopub.status.idle": "2020-11-22T10:53:59.376715Z",
     "shell.execute_reply": "2020-11-22T10:53:59.376200Z"
    },
    "papermill": {
     "duration": 6.769226,
     "end_time": "2020-11-22T10:53:59.376826",
     "exception": false,
     "start_time": "2020-11-22T10:53:52.607600",
     "status": "completed"
    },
    "tags": []
   },
   "outputs": [
    {
     "name": "stdout",
     "output_type": "stream",
     "text": [
      "4/4 [==============================] - 180s 41s/step - loss: 2.5302e-07 - accuracy: 1.0000\n"
     ]
    },
    {
     "data": {
      "text/plain": [
       "[2.5302358608314535e-07, 1.0]"
      ]
     },
     "execution_count": 19,
     "metadata": {},
     "output_type": "execute_result"
    }
   ],
   "source": [
    "model.evaluate(test_generator)"
   ]
  },
  {
   "cell_type": "markdown",
   "metadata": {
    "papermill": {
     "duration": 0.416893,
     "end_time": "2020-11-22T10:54:00.206104",
     "exception": false,
     "start_time": "2020-11-22T10:53:59.789211",
     "status": "completed"
    },
    "tags": []
   },
   "source": [
    "# Check for Your Own Image"
   ]
  },
  {
   "cell_type": "code",
   "execution_count": 87,
   "metadata": {
    "execution": {
     "iopub.execute_input": "2020-11-22T10:54:01.037321Z",
     "iopub.status.busy": "2020-11-22T10:54:01.036377Z",
     "iopub.status.idle": "2020-11-22T10:54:01.039699Z",
     "shell.execute_reply": "2020-11-22T10:54:01.039112Z"
    },
    "papermill": {
     "duration": 0.419949,
     "end_time": "2020-11-22T10:54:01.039798",
     "exception": false,
     "start_time": "2020-11-22T10:54:00.619849",
     "status": "completed"
    },
    "tags": []
   },
   "outputs": [
    {
     "ename": "SyntaxError",
     "evalue": "invalid syntax (<ipython-input-87-3bcdff4a7dd3>, line 16)",
     "output_type": "error",
     "traceback": [
      "\u001b[1;36m  File \u001b[1;32m\"<ipython-input-87-3bcdff4a7dd3>\"\u001b[1;36m, line \u001b[1;32m16\u001b[0m\n\u001b[1;33m    dct={['daisy':\"People take wild daisy tea for coughs, bronchitis,\"\u001b[0m\n\u001b[1;37m                 ^\u001b[0m\n\u001b[1;31mSyntaxError\u001b[0m\u001b[1;31m:\u001b[0m invalid syntax\n"
     ]
    }
   ],
   "source": [
    "def predict(dir):\n",
    "    img=image.load_img(dir,target_size=(224,224))\n",
    "    img1=image.img_to_array(img)\n",
    "    img1=img1/255\n",
    "    img1=np.expand_dims(img1,[0])\n",
    "    plt.imshow(img)\n",
    "    pred=int((model.predict_classes(img1)))\n",
    "    #print(pred)\n",
    "    for key,values in train_generator.class_indices.items():\n",
    "        #print(values)\n",
    "        if pred==values:\n",
    "            \n",
    "            print(\"The predicted image of the flower is: \"+str(key)+\" with a probability of \"+str(round(np.max(model.predict_proba(img1))*100,2))+\"%\")\n",
    "            key=str(key)\n",
    "            print(\"Medicinal Characteristics of\",key)\n",
    "            dct={'daisy':\"People take wild daisy tea for coughs, bronchitis,\" \n",
    "                         \"disorders of the liver and kidneys, and swelling (inflammation).\"\n",
    "                         \"They also use it as a drying agent (astringent) and as a blood purifier.\" \n",
    "                         \"Some people take homeopathic wild daisy for preventing problems during childbirth,\"\n",
    "                        \"pain and soreness, and minor bleeding.\", \n",
    "                 \"roses\":\"It is very useful in heart disease, improves high blood pressure.\"\n",
    "                     \"Powder prepared of dried petals or simply the paste of the rose petals when applied over the wounds, provide quick healing.\"\n",
    "                     \" Application of paste of the petals over the body helps to regulate excessive sweating and gives pleasant smell. \"\n",
    "                     \"Useful in eye problems, use of rose petals extract as drops or as eye wash, due to its anti-septic effect provides relief from burning sensation occurring in eyes.\"\n",
    "                     \" The dried paste of its petals Is quiet effective to manage the problem of gastritis and duodenal ulcer, \"\n",
    "                     \"which can be Consumed in a dosage along with milk\",\n",
    "                 \"dandelion  \":\"In traditional Chinese and Native American medicine,\"\n",
    "                         \"dandelion root has long been used to treat stomach and liver conditions.\"\n",
    "                     \" Herbalists today believe that it can aid in the treatment of many ailments, including\"\n",
    "                     \"acne, eczema, high cholesterol, heartburn, gastrointestinal disorders, diabetes, and \"\n",
    "                     \"even cancer. Dandelion is an herb that is native to Europe. It is also found throughout\"\n",
    "                     \"mild climates of the northern hemisphere. People use dandelion for conditions such as \"\n",
    "                     \"swelling (inflammation) of the tonsils (tonsillitis), infections of the kidney, bladder,\"\n",
    "                     \" or urethra(urinary tract infections or UTIs), and many others, but there is no good \"\n",
    "                     \"scientific evidence to support these uses.\",\n",
    "                \"tulip\":\"Tulip medicinal uses are Have diuretic properties,It has anti-septic properties.\"\n",
    "                     \" Best remedy for Cough & Cold, Reduces risk of cancer, Used for sinus pain, \"\n",
    "                     \"hay fever and headache are some of the Tulip health benefits.\"\n",
    "                     \" Cosmetic use of plant : Benefits of Tulip also comprise of cosmetic uses.\",\n",
    "                \"sunflower\":\"The sunflower seed and sprout contain valuable antioxidant, antimicrobial, \"\n",
    "                     \"anti-inflammatory, antihypertensive, wound-healing, and cardiovascular benefits found \"\n",
    "                     \"in its phenolic compounds, flavonoids, polyunsaturated fatty acids, and vitamins\"}\n",
    "            print(key)\n",
    "            if key in dct:\n",
    "                print(key)\n",
    "                print(dct[key])\n",
    "            "
   ]
  },
  {
   "cell_type": "markdown",
   "metadata": {
    "papermill": {
     "duration": 0.486249,
     "end_time": "2020-11-22T10:54:02.101442",
     "exception": false,
     "start_time": "2020-11-22T10:54:01.615193",
     "status": "completed"
    },
    "tags": []
   },
   "source": [
    "# Example1"
   ]
  },
  {
   "cell_type": "code",
   "execution_count": 86,
   "metadata": {
    "execution": {
     "iopub.execute_input": "2020-11-22T10:54:02.932143Z",
     "iopub.status.busy": "2020-11-22T10:54:02.931224Z",
     "iopub.status.idle": "2020-11-22T10:54:04.284696Z",
     "shell.execute_reply": "2020-11-22T10:54:04.284158Z"
    },
    "papermill": {
     "duration": 1.769712,
     "end_time": "2020-11-22T10:54:04.284809",
     "exception": false,
     "start_time": "2020-11-22T10:54:02.515097",
     "status": "completed"
    },
    "tags": []
   },
   "outputs": [
    {
     "name": "stdout",
     "output_type": "stream",
     "text": [
      "The predicted image of the flower is: rose with a probability of 100.0%\n",
      "Medicinal Characteristics of rose\n",
      "rose\n"
     ]
    },
    {
     "data": {
      "image/png": "[encoded data removed]",
      "text/plain": [
       "<Figure size 432x288 with 1 Axes>"
      ]
     },
     "metadata": {
      "needs_background": "light"
     },
     "output_type": "display_data"
    }
   ],
   "source": [
    "predict('C:\\\\Users\\\\HP\\\\Desktop\\\\Flowers-Recognition-master\\\\rose.jpg')"
   ]
  },
  {
   "cell_type": "code",
   "execution_count": null,
   "metadata": {},
   "outputs": [],
   "source": []
  }
 ],
 "metadata": {
  "kernelspec": {
   "display_name": "Python 3",
   "language": "python",
   "name": "python3"
  },
  "language_info": {
   "codemirror_mode": {
    "name": "ipython",
    "version": 3
   },
   "file_extension": ".py",
   "mimetype": "text/x-python",
   "name": "python",
   "nbconvert_exporter": "python",
   "pygments_lexer": "ipython3",
   "version": "3.6.12"
  },
  "papermill": {
   "duration": 864.513679,
   "end_time": "2020-11-22T10:54:31.186005",
   "environment_variables": {},
   "exception": null,
   "input_path": "__notebook__.ipynb",
   "output_path": "__notebook__.ipynb",
   "parameters": {},
   "start_time": "2020-11-22T10:40:06.672326",
   "version": "2.1.0"
  }
 },
 "nbformat": 4,
 "nbformat_minor": 4
}
