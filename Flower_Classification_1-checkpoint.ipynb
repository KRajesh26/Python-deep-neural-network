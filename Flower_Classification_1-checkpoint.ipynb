{
 "cells": [
  {
   "cell_type": "markdown",
   "metadata": {},
   "source": [
    "## Flower Species Classification"
   ]
  },
  {
   "cell_type": "markdown",
   "metadata": {},
   "source": [
    "### Names: \n",
    "#### Akash Varude (BML234)\n",
    "#### Aniket Sulke   (BML227)"
   ]
  },
  {
   "cell_type": "code",
   "execution_count": 1,
   "metadata": {},
   "outputs": [],
   "source": [
    "import numpy as np\n",
    "import matplotlib.pyplot as plt\n",
    "import pandas as pd\n",
    "from tensorflow.keras.layers import Dense,Flatten,Conv2D\n",
    "from tensorflow.keras.models import Sequential\n",
    "import os\n",
    "import cv2\n",
    "from PIL import Image\n",
    "import sys"
   ]
  },
  {
   "cell_type": "code",
   "execution_count": 2,
   "metadata": {},
   "outputs": [
    {
     "data": {
      "text/plain": [
       "['.ipynb_checkpoints',\n",
       " 'Dataset Link.txt',\n",
       " 'flowers',\n",
       " 'flowers_model2.h5',\n",
       " 'Flower_Classification_1.html',\n",
       " 'Flower_Classification_1.ipynb',\n",
       " '_config.yml']"
      ]
     },
     "execution_count": 2,
     "metadata": {},
     "output_type": "execute_result"
    }
   ],
   "source": [
    "os.listdir()"
   ]
  },
  {
   "cell_type": "code",
   "execution_count": 3,
   "metadata": {},
   "outputs": [],
   "source": [
    "dandelion=os.listdir('C:\\\\Users\\\\My Lappy\\\\Desktop\\\\SOFTWARE_PROJECTS\\\\Flowers-Recognition-master\\\\flowers\\\\dandelion')\n",
    "sunflower=os.listdir('C:\\\\Users\\\\My Lappy\\\\Desktop\\\\SOFTWARE_PROJECTS\\\\Flowers-Recognition-master\\\\flowers\\\\sunflower')\n",
    "tulip=os.listdir('C:\\\\Users\\\\My Lappy\\\\Desktop\\\\SOFTWARE_PROJECTS\\\\Flowers-Recognition-master\\\\flowers\\\\tulip')\n",
    "#daisy=os.listdir('C:\\\\Users\\\\My Lappy\\\\Desktop\\\\SOFTWARE_PROJECTS\\\\Flowers-Recognition-master\\\\flowers\\\\daisy')\n",
    "#rose=os.listdir('C:\\\\Users\\\\My Lappy\\\\Desktop\\\\SOFTWARE_PROJECTS\\\\Flowers-Recognition-master\\\\flowers\\\\rose')"
   ]
  },
  {
   "cell_type": "code",
   "execution_count": 4,
   "metadata": {},
   "outputs": [],
   "source": [
    "species=['dandelion','sunflower','tulip','rose','daisy']"
   ]
  },
  {
   "cell_type": "code",
   "execution_count": 5,
   "metadata": {},
   "outputs": [
    {
     "name": "stdout",
     "output_type": "stream",
     "text": [
      "<class 'str'>\n",
      "1055\n",
      "734\n",
      "984\n"
     ]
    }
   ],
   "source": [
    "# to store each species of the flower in seperate array named after the species (no need to execute this)\n",
    "print(type(dandelion[0]))\n",
    "count=0\n",
    "\n",
    "\n",
    "dadneliondata=[]\n",
    "for file in dandelion:\n",
    "    image=cv2.imread(\"dandelion/\"+str(file),1)\n",
    "    if image is not None:\n",
    "        temp = image / 255\n",
    "        dadneliondata.append(temp)\n",
    "    \n",
    "print(len(dadneliondata))\n",
    "sunflowerdata=[]\n",
    "for file in sunflower:\n",
    "    image2=cv2.imread(\"sunflower/\"+str(file),1)\n",
    "    if image2 is not None:\n",
    "        temp1 = image2 / 255\n",
    "        sunflowerdata.append(temp1)\n",
    "print(len(sunflowerdata))\n",
    "tulipdata=[]\n",
    "for file in tulip:\n",
    "    image3=cv2.imread(\"tulip/\"+str(file),1)\n",
    "    if image3 is not None:\n",
    "        temp2 = image3 / 255\n",
    "        tulipdata.append(temp2)\n",
    "print(len(tulipdata))\n"
   ]
  },
  {
   "cell_type": "code",
   "execution_count": 6,
   "metadata": {},
   "outputs": [
    {
     "name": "stdout",
     "output_type": "stream",
     "text": [
      "<class 'str'>\n",
      "1055\n",
      "1789\n",
      "2773\n"
     ]
    }
   ],
   "source": [
    "print(type(dandelion[0]))\n",
    "count=0\n",
    "X=[]\n",
    "for file in dandelion:\n",
    "    temp=cv2.imread(\"dandelion/\"+str(file),1)\n",
    "    X.append(temp)\n",
    "print(len(X))\n",
    "for file in sunflower:\n",
    "    temp1=cv2.imread(\"sunflower/\"+str(file),1)\n",
    "    X.append(temp1)\n",
    "print(len(X))\n",
    "for file in tulip:\n",
    "    temp2=cv2.imread(\"tulip/\"+str(file),1)\n",
    "    X.append(temp2)\n",
    "print(len(X))\n"
   ]
  },
  {
   "cell_type": "code",
   "execution_count": 7,
   "metadata": {},
   "outputs": [
    {
     "name": "stdout",
     "output_type": "stream",
     "text": [
      "(2773,)\n"
     ]
    }
   ],
   "source": [
    "#xonvert list to numpy array\n",
    "X=np.array(X)\n",
    "print(X.shape)"
   ]
  },
  {
   "cell_type": "code",
   "execution_count": 44,
   "metadata": {},
   "outputs": [
    {
     "data": {
      "text/plain": [
       "(2773,)"
      ]
     },
     "execution_count": 44,
     "metadata": {},
     "output_type": "execute_result"
    }
   ],
   "source": [
    "#create output list Y \n",
    "Y=[]\n",
    "for i in range(0,1054):\n",
    "    Y.append(0)\n",
    "for i in range(1054,1781):\n",
    "    Y.append(1)\n",
    "for i in range(1781,2773):\n",
    "    Y.append(2)\n",
    "\n",
    "Y=np.array(Y)\n",
    "Y.shape"
   ]
  },
  {
   "cell_type": "code",
   "execution_count": null,
   "metadata": {},
   "outputs": [],
   "source": []
  },
  {
   "cell_type": "code",
   "execution_count": 45,
   "metadata": {},
   "outputs": [
    {
     "name": "stdout",
     "output_type": "stream",
     "text": [
      "(1055,)\n",
      "(734,)\n",
      "(984,)\n"
     ]
    }
   ],
   "source": [
    "#just to convert individual list into np array (no need to execute this)\n",
    "dadneliondata=np.array(dadneliondata)\n",
    "sunflowerdata=np.array(sunflowerdata)\n",
    "tulipdata=np.array(tulipdata)\n",
    "\n",
    "\n",
    "print(dadneliondata.shape)\n",
    "print(sunflowerdata.shape)\n",
    "print(tulipdata.shape)\n"
   ]
  },
  {
   "cell_type": "code",
   "execution_count": 46,
   "metadata": {},
   "outputs": [
    {
     "data": {
      "text/plain": [
       "False"
      ]
     },
     "execution_count": 46,
     "metadata": {},
     "output_type": "execute_result"
    }
   ],
   "source": [
    "X.shape[0] != Y.shape[0]"
   ]
  },
  {
   "cell_type": "code",
   "execution_count": 50,
   "metadata": {},
   "outputs": [
    {
     "name": "stdout",
     "output_type": "stream",
     "text": [
      "[None None None ... None None None]\n"
     ]
    }
   ],
   "source": [
    "from sklearn.model_selection import train_test_split\n",
    "X_train, X_test, Y_train, Y_test = train_test_split(X, Y, test_size = 0.2, random_state = 0)\n",
    "#print(X_train)"
   ]
  },
  {
   "cell_type": "code",
   "execution_count": 48,
   "metadata": {},
   "outputs": [
    {
     "name": "stdout",
     "output_type": "stream",
     "text": [
      "(2218,)\n",
      "(2218,)\n",
      "(555,)\n",
      "(555,)\n",
      "[0 1 2]\n",
      "3\n"
     ]
    }
   ],
   "source": [
    "X_train=np.array(X_train)\n",
    "#print(X_train)\n",
    "X_test=np.array(X_test)\n",
    "print(X_train.shape)\n",
    "print(Y_train.shape)\n",
    "print(X_test.shape)\n",
    "print(Y_test.shape)\n",
    "#To find number of classes\n",
    "k=np.unique(Y_train)\n",
    "print(k)\n",
    "K=len(k)\n",
    "print(K)"
   ]
  },
  {
   "cell_type": "code",
   "execution_count": null,
   "metadata": {},
   "outputs": [],
   "source": []
  },
  {
   "cell_type": "code",
   "execution_count": 49,
   "metadata": {},
   "outputs": [
    {
     "ename": "TypeError",
     "evalue": "unsupported operand type(s) for /: 'NoneType' and 'float'",
     "output_type": "error",
     "traceback": [
      "\u001b[1;31m---------------------------------------------------------------------------\u001b[0m",
      "\u001b[1;31mTypeError\u001b[0m                                 Traceback (most recent call last)",
      "\u001b[1;32m<ipython-input-49-8cab8b3c038f>\u001b[0m in \u001b[0;36m<module>\u001b[1;34m\u001b[0m\n\u001b[1;32m----> 1\u001b[1;33m \u001b[0mX_train\u001b[0m\u001b[1;33m=\u001b[0m\u001b[0mX_train\u001b[0m\u001b[1;33m/\u001b[0m\u001b[1;36m255.0\u001b[0m\u001b[1;33m\u001b[0m\u001b[1;33m\u001b[0m\u001b[0m\n\u001b[0m",
      "\u001b[1;31mTypeError\u001b[0m: unsupported operand type(s) for /: 'NoneType' and 'float'"
     ]
    }
   ],
   "source": [
    "X_train=X_train/255.0"
   ]
  },
  {
   "cell_type": "code",
   "execution_count": 20,
   "metadata": {},
   "outputs": [
    {
     "ename": "NameError",
     "evalue": "name 'X_test' is not defined",
     "output_type": "error",
     "traceback": [
      "\u001b[1;31m---------------------------------------------------------------------------\u001b[0m",
      "\u001b[1;31mNameError\u001b[0m                                 Traceback (most recent call last)",
      "\u001b[1;32m<ipython-input-20-58aa37b856c8>\u001b[0m in \u001b[0;36m<module>\u001b[1;34m\u001b[0m\n\u001b[1;32m----> 1\u001b[1;33m \u001b[0mX_test\u001b[0m\u001b[1;33m=\u001b[0m\u001b[0mX_test\u001b[0m\u001b[1;33m/\u001b[0m\u001b[1;36m255.0\u001b[0m\u001b[1;33m\u001b[0m\u001b[1;33m\u001b[0m\u001b[0m\n\u001b[0m",
      "\u001b[1;31mNameError\u001b[0m: name 'X_test' is not defined"
     ]
    }
   ],
   "source": [
    "X_test=X_test/255.0"
   ]
  },
  {
   "cell_type": "code",
   "execution_count": 51,
   "metadata": {},
   "outputs": [
    {
     "ename": "TypeError",
     "evalue": "Image data of dtype object cannot be converted to float",
     "output_type": "error",
     "traceback": [
      "\u001b[1;31m---------------------------------------------------------------------------\u001b[0m",
      "\u001b[1;31mTypeError\u001b[0m                                 Traceback (most recent call last)",
      "\u001b[1;32m<ipython-input-51-8c1eecc212df>\u001b[0m in \u001b[0;36m<module>\u001b[1;34m\u001b[0m\n\u001b[0;32m      1\u001b[0m \u001b[0mf\u001b[0m\u001b[1;33m,\u001b[0m\u001b[0max\u001b[0m \u001b[1;33m=\u001b[0m \u001b[0mplt\u001b[0m\u001b[1;33m.\u001b[0m\u001b[0msubplots\u001b[0m\u001b[1;33m(\u001b[0m\u001b[1;36m2\u001b[0m\u001b[1;33m,\u001b[0m\u001b[1;36m2\u001b[0m\u001b[1;33m,\u001b[0m\u001b[0mfigsize\u001b[0m\u001b[1;33m=\u001b[0m\u001b[1;33m(\u001b[0m\u001b[1;36m13\u001b[0m\u001b[1;33m,\u001b[0m\u001b[1;36m13\u001b[0m\u001b[1;33m)\u001b[0m\u001b[1;33m)\u001b[0m\u001b[1;33m\u001b[0m\u001b[1;33m\u001b[0m\u001b[0m\n\u001b[1;32m----> 2\u001b[1;33m \u001b[0max\u001b[0m\u001b[1;33m[\u001b[0m\u001b[1;36m0\u001b[0m\u001b[1;33m,\u001b[0m\u001b[1;36m0\u001b[0m\u001b[1;33m]\u001b[0m\u001b[1;33m.\u001b[0m\u001b[0mimshow\u001b[0m\u001b[1;33m(\u001b[0m\u001b[0mX_train\u001b[0m\u001b[1;33m[\u001b[0m\u001b[1;36m0\u001b[0m\u001b[1;33m]\u001b[0m\u001b[1;33m)\u001b[0m\u001b[1;33m\u001b[0m\u001b[1;33m\u001b[0m\u001b[0m\n\u001b[0m\u001b[0;32m      3\u001b[0m \u001b[0max\u001b[0m\u001b[1;33m[\u001b[0m\u001b[1;36m0\u001b[0m\u001b[1;33m,\u001b[0m\u001b[1;36m0\u001b[0m\u001b[1;33m]\u001b[0m\u001b[1;33m.\u001b[0m\u001b[0mset_title\u001b[0m\u001b[1;33m(\u001b[0m\u001b[0mstr\u001b[0m\u001b[1;33m(\u001b[0m\u001b[0mspecies\u001b[0m\u001b[1;33m[\u001b[0m\u001b[1;33m(\u001b[0m\u001b[0mY_train\u001b[0m\u001b[1;33m[\u001b[0m\u001b[1;36m0\u001b[0m\u001b[1;33m]\u001b[0m\u001b[1;33m)\u001b[0m\u001b[1;33m]\u001b[0m\u001b[1;33m)\u001b[0m\u001b[1;33m)\u001b[0m\u001b[1;33m\u001b[0m\u001b[1;33m\u001b[0m\u001b[0m\n\u001b[0;32m      4\u001b[0m \u001b[0max\u001b[0m\u001b[1;33m[\u001b[0m\u001b[1;36m0\u001b[0m\u001b[1;33m,\u001b[0m\u001b[1;36m1\u001b[0m\u001b[1;33m]\u001b[0m\u001b[1;33m.\u001b[0m\u001b[0mimshow\u001b[0m\u001b[1;33m(\u001b[0m\u001b[0mX_train\u001b[0m\u001b[1;33m[\u001b[0m\u001b[1;36m50\u001b[0m\u001b[1;33m]\u001b[0m\u001b[1;33m)\u001b[0m\u001b[1;33m\u001b[0m\u001b[1;33m\u001b[0m\u001b[0m\n\u001b[0;32m      5\u001b[0m \u001b[0max\u001b[0m\u001b[1;33m[\u001b[0m\u001b[1;36m0\u001b[0m\u001b[1;33m,\u001b[0m\u001b[1;36m1\u001b[0m\u001b[1;33m]\u001b[0m\u001b[1;33m.\u001b[0m\u001b[0mset_title\u001b[0m\u001b[1;33m(\u001b[0m\u001b[0mstr\u001b[0m\u001b[1;33m(\u001b[0m\u001b[0mspecies\u001b[0m\u001b[1;33m[\u001b[0m\u001b[1;33m(\u001b[0m\u001b[0mY_train\u001b[0m\u001b[1;33m[\u001b[0m\u001b[1;36m50\u001b[0m\u001b[1;33m]\u001b[0m\u001b[1;33m)\u001b[0m\u001b[1;33m]\u001b[0m\u001b[1;33m)\u001b[0m\u001b[1;33m)\u001b[0m\u001b[1;33m\u001b[0m\u001b[1;33m\u001b[0m\u001b[0m\n",
      "\u001b[1;32m~\\.conda\\envs\\birdclass\\lib\\site-packages\\matplotlib\\__init__.py\u001b[0m in \u001b[0;36minner\u001b[1;34m(ax, data, *args, **kwargs)\u001b[0m\n\u001b[0;32m   1445\u001b[0m     \u001b[1;32mdef\u001b[0m \u001b[0minner\u001b[0m\u001b[1;33m(\u001b[0m\u001b[0max\u001b[0m\u001b[1;33m,\u001b[0m \u001b[1;33m*\u001b[0m\u001b[0margs\u001b[0m\u001b[1;33m,\u001b[0m \u001b[0mdata\u001b[0m\u001b[1;33m=\u001b[0m\u001b[1;32mNone\u001b[0m\u001b[1;33m,\u001b[0m \u001b[1;33m**\u001b[0m\u001b[0mkwargs\u001b[0m\u001b[1;33m)\u001b[0m\u001b[1;33m:\u001b[0m\u001b[1;33m\u001b[0m\u001b[1;33m\u001b[0m\u001b[0m\n\u001b[0;32m   1446\u001b[0m         \u001b[1;32mif\u001b[0m \u001b[0mdata\u001b[0m \u001b[1;32mis\u001b[0m \u001b[1;32mNone\u001b[0m\u001b[1;33m:\u001b[0m\u001b[1;33m\u001b[0m\u001b[1;33m\u001b[0m\u001b[0m\n\u001b[1;32m-> 1447\u001b[1;33m             \u001b[1;32mreturn\u001b[0m \u001b[0mfunc\u001b[0m\u001b[1;33m(\u001b[0m\u001b[0max\u001b[0m\u001b[1;33m,\u001b[0m \u001b[1;33m*\u001b[0m\u001b[0mmap\u001b[0m\u001b[1;33m(\u001b[0m\u001b[0msanitize_sequence\u001b[0m\u001b[1;33m,\u001b[0m \u001b[0margs\u001b[0m\u001b[1;33m)\u001b[0m\u001b[1;33m,\u001b[0m \u001b[1;33m**\u001b[0m\u001b[0mkwargs\u001b[0m\u001b[1;33m)\u001b[0m\u001b[1;33m\u001b[0m\u001b[1;33m\u001b[0m\u001b[0m\n\u001b[0m\u001b[0;32m   1448\u001b[0m \u001b[1;33m\u001b[0m\u001b[0m\n\u001b[0;32m   1449\u001b[0m         \u001b[0mbound\u001b[0m \u001b[1;33m=\u001b[0m \u001b[0mnew_sig\u001b[0m\u001b[1;33m.\u001b[0m\u001b[0mbind\u001b[0m\u001b[1;33m(\u001b[0m\u001b[0max\u001b[0m\u001b[1;33m,\u001b[0m \u001b[1;33m*\u001b[0m\u001b[0margs\u001b[0m\u001b[1;33m,\u001b[0m \u001b[1;33m**\u001b[0m\u001b[0mkwargs\u001b[0m\u001b[1;33m)\u001b[0m\u001b[1;33m\u001b[0m\u001b[1;33m\u001b[0m\u001b[0m\n",
      "\u001b[1;32m~\\.conda\\envs\\birdclass\\lib\\site-packages\\matplotlib\\axes\\_axes.py\u001b[0m in \u001b[0;36mimshow\u001b[1;34m(self, X, cmap, norm, aspect, interpolation, alpha, vmin, vmax, origin, extent, filternorm, filterrad, resample, url, **kwargs)\u001b[0m\n\u001b[0;32m   5521\u001b[0m                               resample=resample, **kwargs)\n\u001b[0;32m   5522\u001b[0m \u001b[1;33m\u001b[0m\u001b[0m\n\u001b[1;32m-> 5523\u001b[1;33m         \u001b[0mim\u001b[0m\u001b[1;33m.\u001b[0m\u001b[0mset_data\u001b[0m\u001b[1;33m(\u001b[0m\u001b[0mX\u001b[0m\u001b[1;33m)\u001b[0m\u001b[1;33m\u001b[0m\u001b[1;33m\u001b[0m\u001b[0m\n\u001b[0m\u001b[0;32m   5524\u001b[0m         \u001b[0mim\u001b[0m\u001b[1;33m.\u001b[0m\u001b[0mset_alpha\u001b[0m\u001b[1;33m(\u001b[0m\u001b[0malpha\u001b[0m\u001b[1;33m)\u001b[0m\u001b[1;33m\u001b[0m\u001b[1;33m\u001b[0m\u001b[0m\n\u001b[0;32m   5525\u001b[0m         \u001b[1;32mif\u001b[0m \u001b[0mim\u001b[0m\u001b[1;33m.\u001b[0m\u001b[0mget_clip_path\u001b[0m\u001b[1;33m(\u001b[0m\u001b[1;33m)\u001b[0m \u001b[1;32mis\u001b[0m \u001b[1;32mNone\u001b[0m\u001b[1;33m:\u001b[0m\u001b[1;33m\u001b[0m\u001b[1;33m\u001b[0m\u001b[0m\n",
      "\u001b[1;32m~\\.conda\\envs\\birdclass\\lib\\site-packages\\matplotlib\\image.py\u001b[0m in \u001b[0;36mset_data\u001b[1;34m(self, A)\u001b[0m\n\u001b[0;32m    701\u001b[0m                 not np.can_cast(self._A.dtype, float, \"same_kind\")):\n\u001b[0;32m    702\u001b[0m             raise TypeError(\"Image data of dtype {} cannot be converted to \"\n\u001b[1;32m--> 703\u001b[1;33m                             \"float\".format(self._A.dtype))\n\u001b[0m\u001b[0;32m    704\u001b[0m \u001b[1;33m\u001b[0m\u001b[0m\n\u001b[0;32m    705\u001b[0m         \u001b[1;32mif\u001b[0m \u001b[0mself\u001b[0m\u001b[1;33m.\u001b[0m\u001b[0m_A\u001b[0m\u001b[1;33m.\u001b[0m\u001b[0mndim\u001b[0m \u001b[1;33m==\u001b[0m \u001b[1;36m3\u001b[0m \u001b[1;32mand\u001b[0m \u001b[0mself\u001b[0m\u001b[1;33m.\u001b[0m\u001b[0m_A\u001b[0m\u001b[1;33m.\u001b[0m\u001b[0mshape\u001b[0m\u001b[1;33m[\u001b[0m\u001b[1;33m-\u001b[0m\u001b[1;36m1\u001b[0m\u001b[1;33m]\u001b[0m \u001b[1;33m==\u001b[0m \u001b[1;36m1\u001b[0m\u001b[1;33m:\u001b[0m\u001b[1;33m\u001b[0m\u001b[1;33m\u001b[0m\u001b[0m\n",
      "\u001b[1;31mTypeError\u001b[0m: Image data of dtype object cannot be converted to float"
     ]
    },
    {
     "data": {
      "image/png": "[encoded data removed]",
      "text/plain": [
       "<Figure size 936x936 with 4 Axes>"
      ]
     },
     "metadata": {
      "needs_background": "light"
     },
     "output_type": "display_data"
    }
   ],
   "source": [
    "f,ax = plt.subplots(2,2,figsize=(13,13))\n",
    "ax[0,0].imshow(X_train[0])\n",
    "ax[0,0].set_title(str(species[(Y_train[0])]))\n",
    "ax[0,1].imshow(X_train[50])\n",
    "ax[0,1].set_title(str(species[(Y_train[50])]))\n",
    "ax[1,0].imshow(X_train[100])\n",
    "ax[1,0].set_title(str(species[(Y_train[100])]))\n",
    "ax[1,1].imshow(X_train[106])\n",
    "ax[1,1].set_title(str(species[(Y_train[106])]))"
   ]
  },
  {
   "cell_type": "code",
   "execution_count": 22,
   "metadata": {},
   "outputs": [],
   "source": [
    "from tensorflow.keras.layers import MaxPooling2D \n",
    "from tensorflow import keras\n",
    "from tensorflow.keras.layers import Input,Dropout\n",
    "from tensorflow.keras.models import Model\n",
    "from tensorflow.keras import backend as K\n",
    "from tensorflow.keras.models import Sequential\n",
    "from tensorflow.keras.optimizers import Adam\n",
    "from tensorflow.keras.utils import to_categorical\n",
    "from tensorflow.keras.preprocessing.image import ImageDataGenerator\n"
   ]
  },
  {
   "cell_type": "code",
   "execution_count": 23,
   "metadata": {},
   "outputs": [],
   "source": [
    "batch_size=128\n",
    "epochs=25\n",
    "\n",
    "from tensorflow.keras.callbacks import ReduceLROnPlateau\n",
    "red_lr= ReduceLROnPlateau(monitor='val_acc',patience=3,verbose=1,factor=0.1)"
   ]
  },
  {
   "cell_type": "markdown",
   "metadata": {},
   "source": [
    "### Data Augmentation"
   ]
  },
  {
   "cell_type": "code",
   "execution_count": 24,
   "metadata": {},
   "outputs": [
    {
     "ename": "NameError",
     "evalue": "name 'X_train' is not defined",
     "output_type": "error",
     "traceback": [
      "\u001b[1;31m---------------------------------------------------------------------------\u001b[0m",
      "\u001b[1;31mNameError\u001b[0m                                 Traceback (most recent call last)",
      "\u001b[1;32m<ipython-input-24-fbcb30069ddb>\u001b[0m in \u001b[0;36m<module>\u001b[1;34m\u001b[0m\n\u001b[0;32m     11\u001b[0m         \u001b[0mhorizontal_flip\u001b[0m\u001b[1;33m=\u001b[0m\u001b[1;32mTrue\u001b[0m\u001b[1;33m,\u001b[0m  \u001b[1;31m# randomly flip images\u001b[0m\u001b[1;33m\u001b[0m\u001b[1;33m\u001b[0m\u001b[0m\n\u001b[0;32m     12\u001b[0m         vertical_flip=False)  # randomly flip images\n\u001b[1;32m---> 13\u001b[1;33m \u001b[0mdatagen\u001b[0m\u001b[1;33m.\u001b[0m\u001b[0mfit\u001b[0m\u001b[1;33m(\u001b[0m\u001b[0mX_train\u001b[0m\u001b[1;33m)\u001b[0m\u001b[1;33m\u001b[0m\u001b[1;33m\u001b[0m\u001b[0m\n\u001b[0m",
      "\u001b[1;31mNameError\u001b[0m: name 'X_train' is not defined"
     ]
    }
   ],
   "source": [
    "datagen = ImageDataGenerator(\n",
    "        featurewise_center=False,  # set input mean to 0 over the dataset\n",
    "        samplewise_center=False,  # set each sample mean to 0\n",
    "        featurewise_std_normalization=False,  # divide inputs by std of the dataset\n",
    "        samplewise_std_normalization=False,  # divide each input by its std\n",
    "        zca_whitening=False,  # apply ZCA whitening\n",
    "        rotation_range=10,  # randomly rotate images in the range (degrees, -10 to 10)\n",
    "        zoom_range = 0.2, # Randomly zoom image \n",
    "        width_shift_range=0.3,  # randomly shift images horizontally (fraction of total width)\n",
    "        height_shift_range=0.3,  # randomly shift images vertically (fraction of total height)\n",
    "        horizontal_flip=True,  # randomly flip images\n",
    "        vertical_flip=False)  # randomly flip images\n",
    "datagen.fit(X_train)"
   ]
  },
  {
   "cell_type": "markdown",
   "metadata": {},
   "source": [
    "### Build a model"
   ]
  },
  {
   "cell_type": "code",
   "execution_count": 87,
   "metadata": {},
   "outputs": [],
   "source": [
    "i=Input(shape=X_train[0].shape)\n",
    "X=Conv2D(32,(3,3),strides=(1,1),activation='relu')(i)\n",
    "X=MaxPooling2D(pool_size=(2,2))(X)\n",
    "X=Conv2D(64,(3,3),strides=(1,1),activation='relu')(X)\n",
    "X=MaxPooling2D(pool_size=(2,2))(X)\n",
    "X=Conv2D(96,(3,3),strides=(1,1),activation='relu')(X)\n",
    "X=MaxPooling2D(pool_size=(2,2))(X)\n",
    "X=Conv2D(96,(3,3),strides=(1,1),activation='relu')(X)\n",
    "X=MaxPooling2D(pool_size=(2,2))(X)\n",
    "X=Flatten()(X)\n",
    "X=Dense(512,activation='relu')(X)\n",
    "#X=Dropout(0.2)(X)\n",
    "X=Dense(3,activation='softmax')(X)\n",
    "#X=Dropout(0.2)(X)\n",
    "model=Model(i,X)"
   ]
  },
  {
   "cell_type": "code",
   "execution_count": 88,
   "metadata": {},
   "outputs": [
    {
     "name": "stdout",
     "output_type": "stream",
     "text": [
      "Model: \"model\"\n",
      "_________________________________________________________________\n",
      "Layer (type)                 Output Shape              Param #   \n",
      "=================================================================\n",
      "input_5 (InputLayer)         [(None, 150, 150, 3)]     0         \n",
      "_________________________________________________________________\n",
      "conv2d_3 (Conv2D)            (None, 148, 148, 32)      896       \n",
      "_________________________________________________________________\n",
      "max_pooling2d (MaxPooling2D) (None, 74, 74, 32)        0         \n",
      "_________________________________________________________________\n",
      "conv2d_4 (Conv2D)            (None, 72, 72, 64)        18496     \n",
      "_________________________________________________________________\n",
      "max_pooling2d_1 (MaxPooling2 (None, 36, 36, 64)        0         \n",
      "_________________________________________________________________\n",
      "conv2d_5 (Conv2D)            (None, 34, 34, 96)        55392     \n",
      "_________________________________________________________________\n",
      "max_pooling2d_2 (MaxPooling2 (None, 17, 17, 96)        0         \n",
      "_________________________________________________________________\n",
      "conv2d_6 (Conv2D)            (None, 15, 15, 96)        83040     \n",
      "_________________________________________________________________\n",
      "max_pooling2d_3 (MaxPooling2 (None, 7, 7, 96)          0         \n",
      "_________________________________________________________________\n",
      "flatten (Flatten)            (None, 4704)              0         \n",
      "_________________________________________________________________\n",
      "dense (Dense)                (None, 512)               2408960   \n",
      "_________________________________________________________________\n",
      "dense_1 (Dense)              (None, 3)                 1539      \n",
      "=================================================================\n",
      "Total params: 2,568,323\n",
      "Trainable params: 2,568,323\n",
      "Non-trainable params: 0\n",
      "_________________________________________________________________\n"
     ]
    }
   ],
   "source": [
    "model.summary()"
   ]
  },
  {
   "cell_type": "markdown",
   "metadata": {},
   "source": [
    "### Compile and Fit"
   ]
  },
  {
   "cell_type": "code",
   "execution_count": 89,
   "metadata": {},
   "outputs": [],
   "source": [
    "model.compile(optimizer=Adam(lr=0.001),loss='sparse_categorical_crossentropy',metrics=['accuracy'])\n"
   ]
  },
  {
   "cell_type": "code",
   "execution_count": 92,
   "metadata": {},
   "outputs": [
    {
     "name": "stdout",
     "output_type": "stream",
     "text": [
      "WARNING:tensorflow:From <ipython-input-92-27d0503f2564>:3: Model.fit_generator (from tensorflow.python.keras.engine.training) is deprecated and will be removed in a future version.\n",
      "Instructions for updating:\n",
      "Please use Model.fit, which supports generators.\n",
      "WARNING:tensorflow:sample_weight modes were coerced from\n",
      "  ...\n",
      "    to  \n",
      "  ['...']\n",
      "Train for 17 steps, validate on 552 samples\n",
      "Epoch 1/25\n",
      "17/17 [==============================] - 59s 3s/step - loss: 1.0650 - accuracy: 0.4107 - val_loss: 0.8352 - val_accuracy: 0.6087\n",
      "Epoch 2/25\n",
      "17/17 [==============================] - 53s 3s/step - loss: 0.8082 - accuracy: 0.6389 - val_loss: 0.6889 - val_accuracy: 0.7355\n",
      "Epoch 3/25\n",
      "17/17 [==============================] - 52s 3s/step - loss: 0.6990 - accuracy: 0.7097 - val_loss: 0.5976 - val_accuracy: 0.7627\n",
      "Epoch 4/25\n",
      "17/17 [==============================] - 49s 3s/step - loss: 0.6426 - accuracy: 0.7429 - val_loss: 0.5583 - val_accuracy: 0.7880\n",
      "Epoch 5/25\n",
      "17/17 [==============================] - 47s 3s/step - loss: 0.6118 - accuracy: 0.7419 - val_loss: 0.5574 - val_accuracy: 0.7989\n",
      "Epoch 6/25\n",
      "17/17 [==============================] - 50s 3s/step - loss: 0.5811 - accuracy: 0.7721 - val_loss: 0.6211 - val_accuracy: 0.7283\n",
      "Epoch 7/25\n",
      "17/17 [==============================] - 49s 3s/step - loss: 0.5895 - accuracy: 0.7675 - val_loss: 0.4641 - val_accuracy: 0.8297\n",
      "Epoch 8/25\n",
      "17/17 [==============================] - 49s 3s/step - loss: 0.5761 - accuracy: 0.7713 - val_loss: 0.4793 - val_accuracy: 0.8207\n",
      "Epoch 9/25\n",
      "17/17 [==============================] - 48s 3s/step - loss: 0.5483 - accuracy: 0.7814 - val_loss: 0.4985 - val_accuracy: 0.8062\n",
      "Epoch 10/25\n",
      "17/17 [==============================] - 49s 3s/step - loss: 0.5150 - accuracy: 0.7963 - val_loss: 0.4738 - val_accuracy: 0.8188\n",
      "Epoch 11/25\n",
      "17/17 [==============================] - 50s 3s/step - loss: 0.5060 - accuracy: 0.8065 - val_loss: 0.6243 - val_accuracy: 0.7663\n",
      "Epoch 12/25\n",
      "17/17 [==============================] - 49s 3s/step - loss: 0.5079 - accuracy: 0.7968 - val_loss: 0.5025 - val_accuracy: 0.8007\n",
      "Epoch 13/25\n",
      "17/17 [==============================] - 51s 3s/step - loss: 0.4575 - accuracy: 0.8166 - val_loss: 0.4364 - val_accuracy: 0.8225\n",
      "Epoch 14/25\n",
      "17/17 [==============================] - 49s 3s/step - loss: 0.4386 - accuracy: 0.8387 - val_loss: 0.4423 - val_accuracy: 0.8333\n",
      "Epoch 15/25\n",
      "17/17 [==============================] - 50s 3s/step - loss: 0.4202 - accuracy: 0.8344 - val_loss: 0.4249 - val_accuracy: 0.8279\n",
      "Epoch 16/25\n",
      "17/17 [==============================] - 51s 3s/step - loss: 0.4221 - accuracy: 0.8349 - val_loss: 0.3783 - val_accuracy: 0.8514\n",
      "Epoch 17/25\n",
      "17/17 [==============================] - 54s 3s/step - loss: 0.4055 - accuracy: 0.8392 - val_loss: 0.4159 - val_accuracy: 0.8442\n",
      "Epoch 18/25\n",
      "17/17 [==============================] - 50s 3s/step - loss: 0.3873 - accuracy: 0.8455 - val_loss: 0.3563 - val_accuracy: 0.8623\n",
      "Epoch 19/25\n",
      "17/17 [==============================] - 48s 3s/step - loss: 0.3971 - accuracy: 0.8479 - val_loss: 0.3384 - val_accuracy: 0.8750\n",
      "Epoch 20/25\n",
      "17/17 [==============================] - 49s 3s/step - loss: 0.3896 - accuracy: 0.8493 - val_loss: 0.4135 - val_accuracy: 0.8514\n",
      "Epoch 21/25\n",
      "17/17 [==============================] - 49s 3s/step - loss: 0.3933 - accuracy: 0.8430 - val_loss: 0.3562 - val_accuracy: 0.8641\n",
      "Epoch 22/25\n",
      "17/17 [==============================] - 49s 3s/step - loss: 0.4207 - accuracy: 0.8387 - val_loss: 0.3342 - val_accuracy: 0.8678\n",
      "Epoch 23/25\n",
      "17/17 [==============================] - 49s 3s/step - loss: 0.3811 - accuracy: 0.8562 - val_loss: 0.4127 - val_accuracy: 0.8533\n",
      "Epoch 24/25\n",
      "17/17 [==============================] - 48s 3s/step - loss: 0.3612 - accuracy: 0.8589 - val_loss: 0.3542 - val_accuracy: 0.8714\n",
      "Epoch 25/25\n",
      "17/17 [==============================] - 49s 3s/step - loss: 0.3312 - accuracy: 0.8729 - val_loss: 0.4017 - val_accuracy: 0.8678\n"
     ]
    }
   ],
   "source": [
    "History = model.fit_generator(datagen.flow(X_train,Y_train, batch_size=batch_size),\n",
    "                              epochs = epochs, validation_data = (X_test,Y_test),\n",
    "                              verbose = 1, steps_per_epoch=X_train.shape[0] // batch_size)"
   ]
  },
  {
   "cell_type": "code",
   "execution_count": 93,
   "metadata": {},
   "outputs": [
    {
     "data": {
      "image/png": "[encoded data removed]",
      "text/plain": [
       "<Figure size 432x288 with 1 Axes>"
      ]
     },
     "metadata": {
      "needs_background": "light"
     },
     "output_type": "display_data"
    }
   ],
   "source": [
    "plt.plot(History.history['accuracy'])\n",
    "plt.plot(History.history['val_accuracy'])\n",
    "plt.title('model accuracy')\n",
    "plt.ylabel('accuracy')\n",
    "plt.xlabel('epoch')\n",
    "plt.legend(['train', 'val'], loc='upper left')\n",
    "plt.show()"
   ]
  },
  {
   "cell_type": "code",
   "execution_count": 94,
   "metadata": {},
   "outputs": [
    {
     "data": {
      "image/png": "[encoded data removed]",
      "text/plain": [
       "<Figure size 432x288 with 1 Axes>"
      ]
     },
     "metadata": {
      "needs_background": "light"
     },
     "output_type": "display_data"
    }
   ],
   "source": [
    "plt.plot(History.history['loss'])\n",
    "plt.plot(History.history['val_loss'])\n",
    "plt.title('model loss')\n",
    "plt.ylabel('loss')\n",
    "plt.xlabel('epoch')\n",
    "plt.legend(['train', 'val'], loc='upper left')\n",
    "plt.show()"
   ]
  },
  {
   "cell_type": "code",
   "execution_count": 95,
   "metadata": {},
   "outputs": [],
   "source": [
    "model.save('flowers_model2.h5') "
   ]
  },
  {
   "cell_type": "code",
   "execution_count": 98,
   "metadata": {},
   "outputs": [],
   "source": [
    "from tensorflow.keras.models import load_model"
   ]
  },
  {
   "cell_type": "code",
   "execution_count": 100,
   "metadata": {},
   "outputs": [],
   "source": [
    "model2 = load_model('flowers_model2.h5')"
   ]
  },
  {
   "cell_type": "code",
   "execution_count": null,
   "metadata": {},
   "outputs": [],
   "source": []
  },
  {
   "cell_type": "code",
   "execution_count": null,
   "metadata": {},
   "outputs": [],
   "source": []
  },
  {
   "cell_type": "code",
   "execution_count": 54,
   "metadata": {},
   "outputs": [],
   "source": []
  },
  {
   "cell_type": "markdown",
   "metadata": {},
   "source": [
    "### Prediction"
   ]
  },
  {
   "cell_type": "code",
   "execution_count": 101,
   "metadata": {},
   "outputs": [],
   "source": [
    "#To resize original image to standard format and saving it\n",
    "img1 = Image.open('predictit.jpg')\n",
    "imResize = img1.resize((150,150), Image.ANTIALIAS)\n",
    "imResize.save('predictit.jpg', 'JPEG', quality=90)\n"
   ]
  },
  {
   "cell_type": "code",
   "execution_count": 102,
   "metadata": {},
   "outputs": [
    {
     "data": {
      "text/plain": [
       "(1, 150, 150, 3)"
      ]
     },
     "execution_count": 102,
     "metadata": {},
     "output_type": "execute_result"
    },
    {
     "data": {
      "image/png": "[encoded data removed]",
      "text/plain": [
       "<Figure size 432x288 with 1 Axes>"
      ]
     },
     "metadata": {
      "needs_background": "light"
     },
     "output_type": "display_data"
    }
   ],
   "source": [
    "predictimg=cv2.imread(\"predictit.jpg\",1)\n",
    "predictimg=np.array(predictimg)\n",
    "plt.imshow(predictimg)\n",
    "predictimg=predictimg/255.0\n",
    "\n",
    "predictimg = np.expand_dims(predictimg, axis=0)\n",
    "predictimg.shape"
   ]
  },
  {
   "cell_type": "code",
   "execution_count": 103,
   "metadata": {},
   "outputs": [
    {
     "name": "stdout",
     "output_type": "stream",
     "text": [
      "[9.9615628e-01 4.6225320e-04 3.3814039e-03]\n"
     ]
    }
   ],
   "source": [
    "predition=model.predict(predictimg)\n",
    "\n",
    "predition=np.squeeze(predition)\n",
    "print(predition)\n",
    "predIndex=np.argmax(predition)"
   ]
  },
  {
   "cell_type": "code",
   "execution_count": 104,
   "metadata": {},
   "outputs": [
    {
     "name": "stdout",
     "output_type": "stream",
     "text": [
      "The Species of given image is dandelion\n"
     ]
    }
   ],
   "source": [
    "print(\"The Species of given image is\",species[predIndex])"
   ]
  },
  {
   "cell_type": "code",
   "execution_count": null,
   "metadata": {},
   "outputs": [],
   "source": []
  }
 ],
 "metadata": {
  "kernelspec": {
   "display_name": "Python 3",
   "language": "python",
   "name": "python3"
  },
  "language_info": {
   "codemirror_mode": {
    "name": "ipython",
    "version": 3
   },
   "file_extension": ".py",
   "mimetype": "text/x-python",
   "name": "python",
   "nbconvert_exporter": "python",
   "pygments_lexer": "ipython3",
   "version": "3.7.9"
  }
 },
 "nbformat": 4,
 "nbformat_minor": 2
}
